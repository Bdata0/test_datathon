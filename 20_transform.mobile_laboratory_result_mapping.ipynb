{
 "cells": [
  {
   "cell_type": "code",
   "execution_count": 1,
   "metadata": {},
   "outputs": [],
   "source": [
    "import pandas as pd\n",
    "import datetime"
   ]
  },
  {
   "cell_type": "code",
   "execution_count": 2,
   "metadata": {},
   "outputs": [],
   "source": [
    "data = pd.read_csv('data/original/data-49158-2020-10-16.csv', \n",
    "                   sep=';', \n",
    "                   encoding='cp1251', \n",
    "                   index_col='ID')"
   ]
  },
  {
   "cell_type": "code",
   "execution_count": 3,
   "metadata": {},
   "outputs": [
    {
     "data": {
      "text/html": [
       "<div>\n",
       "<style scoped>\n",
       "    .dataframe tbody tr th:only-of-type {\n",
       "        vertical-align: middle;\n",
       "    }\n",
       "\n",
       "    .dataframe tbody tr th {\n",
       "        vertical-align: top;\n",
       "    }\n",
       "\n",
       "    .dataframe thead th {\n",
       "        text-align: right;\n",
       "    }\n",
       "</style>\n",
       "<table border=\"1\" class=\"dataframe\">\n",
       "  <thead>\n",
       "    <tr style=\"text-align: right;\">\n",
       "      <th></th>\n",
       "      <th>Date</th>\n",
       "      <th>global_id</th>\n",
       "      <th>AdmArea</th>\n",
       "      <th>District</th>\n",
       "      <th>Longitude_WGS84</th>\n",
       "      <th>Latitude_WGS84</th>\n",
       "      <th>Location</th>\n",
       "      <th>Results</th>\n",
       "      <th>geoData</th>\n",
       "      <th>Unnamed: 10</th>\n",
       "    </tr>\n",
       "    <tr>\n",
       "      <th>ID</th>\n",
       "      <th></th>\n",
       "      <th></th>\n",
       "      <th></th>\n",
       "      <th></th>\n",
       "      <th></th>\n",
       "      <th></th>\n",
       "      <th></th>\n",
       "      <th></th>\n",
       "      <th></th>\n",
       "      <th></th>\n",
       "    </tr>\n",
       "  </thead>\n",
       "  <tbody>\n",
       "    <tr>\n",
       "      <th>5</th>\n",
       "      <td>11.01.2016</td>\n",
       "      <td>272626552</td>\n",
       "      <td>Восточный административный округ</td>\n",
       "      <td>район Восточный</td>\n",
       "      <td>37.797262</td>\n",
       "      <td>56.007634</td>\n",
       "      <td>посёлок Акулово, дом 7</td>\n",
       "      <td>Содержание загрязняющих веществ в атмосферном ...</td>\n",
       "      <td>{type=Point, coordinates=[37.797261999821, 56....</td>\n",
       "      <td>NaN</td>\n",
       "    </tr>\n",
       "    <tr>\n",
       "      <th>6</th>\n",
       "      <td>12.01.2016</td>\n",
       "      <td>272626553</td>\n",
       "      <td>Юго-Восточный административный округ</td>\n",
       "      <td>район Некрасовка</td>\n",
       "      <td>37.915094</td>\n",
       "      <td>55.705884</td>\n",
       "      <td>Рождественская улица, дом 21, корпус 4</td>\n",
       "      <td>По отдельным веществам в атмосферном воздухе в...</td>\n",
       "      <td>{type=Point, coordinates=[37.915094000367, 55....</td>\n",
       "      <td>NaN</td>\n",
       "    </tr>\n",
       "    <tr>\n",
       "      <th>7</th>\n",
       "      <td>11.01.2016</td>\n",
       "      <td>272626555</td>\n",
       "      <td>Восточный административный округ</td>\n",
       "      <td>район Новогиреево</td>\n",
       "      <td>37.801156</td>\n",
       "      <td>55.743139</td>\n",
       "      <td>Перовская улица, дом 66, корпус 1</td>\n",
       "      <td>Содержание загрязняющих веществ в атмосферном ...</td>\n",
       "      <td>{type=Point, coordinates=[37.801155999846, 55....</td>\n",
       "      <td>NaN</td>\n",
       "    </tr>\n",
       "    <tr>\n",
       "      <th>8</th>\n",
       "      <td>13.01.2016</td>\n",
       "      <td>272626556</td>\n",
       "      <td>Зеленоградский административный округ</td>\n",
       "      <td>район Старое Крюково</td>\n",
       "      <td>37.213224</td>\n",
       "      <td>55.978150</td>\n",
       "      <td>г. Зеленоград, Георгиевский проспект, дом 7</td>\n",
       "      <td>Содержание загрязняющих веществ в атмосферном ...</td>\n",
       "      <td>{type=Point, coordinates=[37.213224000395, 55....</td>\n",
       "      <td>NaN</td>\n",
       "    </tr>\n",
       "    <tr>\n",
       "      <th>9</th>\n",
       "      <td>13.01.2016</td>\n",
       "      <td>272626557</td>\n",
       "      <td>Зеленоградский административный округ</td>\n",
       "      <td>район Силино</td>\n",
       "      <td>37.168481</td>\n",
       "      <td>55.992985</td>\n",
       "      <td>город Зеленоград, корпус 1131</td>\n",
       "      <td>Содержание загрязняющих веществ в атмосферном ...</td>\n",
       "      <td>{type=Point, coordinates=[37.168481000184, 55....</td>\n",
       "      <td>NaN</td>\n",
       "    </tr>\n",
       "  </tbody>\n",
       "</table>\n",
       "</div>"
      ],
      "text/plain": [
       "          Date  global_id                                AdmArea  \\\n",
       "ID                                                                 \n",
       "5   11.01.2016  272626552       Восточный административный округ   \n",
       "6   12.01.2016  272626553   Юго-Восточный административный округ   \n",
       "7   11.01.2016  272626555       Восточный административный округ   \n",
       "8   13.01.2016  272626556  Зеленоградский административный округ   \n",
       "9   13.01.2016  272626557  Зеленоградский административный округ   \n",
       "\n",
       "                District Longitude_WGS84 Latitude_WGS84  \\\n",
       "ID                                                        \n",
       "5        район Восточный       37.797262      56.007634   \n",
       "6       район Некрасовка       37.915094      55.705884   \n",
       "7      район Новогиреево       37.801156      55.743139   \n",
       "8   район Старое Крюково       37.213224      55.978150   \n",
       "9           район Силино       37.168481      55.992985   \n",
       "\n",
       "                                       Location  \\\n",
       "ID                                                \n",
       "5                        посёлок Акулово, дом 7   \n",
       "6        Рождественская улица, дом 21, корпус 4   \n",
       "7             Перовская улица, дом 66, корпус 1   \n",
       "8   г. Зеленоград, Георгиевский проспект, дом 7   \n",
       "9                 город Зеленоград, корпус 1131   \n",
       "\n",
       "                                              Results  \\\n",
       "ID                                                      \n",
       "5   Содержание загрязняющих веществ в атмосферном ...   \n",
       "6   По отдельным веществам в атмосферном воздухе в...   \n",
       "7   Содержание загрязняющих веществ в атмосферном ...   \n",
       "8   Содержание загрязняющих веществ в атмосферном ...   \n",
       "9   Содержание загрязняющих веществ в атмосферном ...   \n",
       "\n",
       "                                              geoData  Unnamed: 10  \n",
       "ID                                                                  \n",
       "5   {type=Point, coordinates=[37.797261999821, 56....          NaN  \n",
       "6   {type=Point, coordinates=[37.915094000367, 55....          NaN  \n",
       "7   {type=Point, coordinates=[37.801155999846, 55....          NaN  \n",
       "8   {type=Point, coordinates=[37.213224000395, 55....          NaN  \n",
       "9   {type=Point, coordinates=[37.168481000184, 55....          NaN  "
      ]
     },
     "execution_count": 3,
     "metadata": {},
     "output_type": "execute_result"
    }
   ],
   "source": [
    "data.head()"
   ]
  },
  {
   "cell_type": "code",
   "execution_count": 4,
   "metadata": {},
   "outputs": [],
   "source": [
    "data.drop(columns='Unnamed: 10', inplace=True)"
   ]
  },
  {
   "cell_type": "code",
   "execution_count": 5,
   "metadata": {},
   "outputs": [],
   "source": [
    "mapping_data = pd.read_csv('data/tranformed/mapping/mobile_laboratory_result_mapping.csv', sep=',')"
   ]
  },
  {
   "cell_type": "code",
   "execution_count": 6,
   "metadata": {},
   "outputs": [
    {
     "data": {
      "text/html": [
       "<div>\n",
       "<style scoped>\n",
       "    .dataframe tbody tr th:only-of-type {\n",
       "        vertical-align: middle;\n",
       "    }\n",
       "\n",
       "    .dataframe tbody tr th {\n",
       "        vertical-align: top;\n",
       "    }\n",
       "\n",
       "    .dataframe thead th {\n",
       "        text-align: right;\n",
       "    }\n",
       "</style>\n",
       "<table border=\"1\" class=\"dataframe\">\n",
       "  <thead>\n",
       "    <tr style=\"text-align: right;\">\n",
       "      <th></th>\n",
       "      <th>Results</th>\n",
       "      <th>Rank</th>\n",
       "    </tr>\n",
       "  </thead>\n",
       "  <tbody>\n",
       "    <tr>\n",
       "      <th>0</th>\n",
       "      <td>Зафиксированы повышенные максимальные разовые ...</td>\n",
       "      <td>10</td>\n",
       "    </tr>\n",
       "    <tr>\n",
       "      <th>1</th>\n",
       "      <td>Зафиксированы повышенные максимальные разовые ...</td>\n",
       "      <td>10</td>\n",
       "    </tr>\n",
       "    <tr>\n",
       "      <th>2</th>\n",
       "      <td>Зафиксированы повышенные максимальные разовые ...</td>\n",
       "      <td>10</td>\n",
       "    </tr>\n",
       "    <tr>\n",
       "      <th>3</th>\n",
       "      <td>Зафиксированы повышенные среднесуточные концен...</td>\n",
       "      <td>10</td>\n",
       "    </tr>\n",
       "    <tr>\n",
       "      <th>4</th>\n",
       "      <td>По отдельным веществам в атмосферном воздухе в...</td>\n",
       "      <td>10</td>\n",
       "    </tr>\n",
       "  </tbody>\n",
       "</table>\n",
       "</div>"
      ],
      "text/plain": [
       "                                             Results  Rank\n",
       "0  Зафиксированы повышенные максимальные разовые ...    10\n",
       "1  Зафиксированы повышенные максимальные разовые ...    10\n",
       "2  Зафиксированы повышенные максимальные разовые ...    10\n",
       "3  Зафиксированы повышенные среднесуточные концен...    10\n",
       "4  По отдельным веществам в атмосферном воздухе в...    10"
      ]
     },
     "execution_count": 6,
     "metadata": {},
     "output_type": "execute_result"
    }
   ],
   "source": [
    "mapping_data.head()"
   ]
  },
  {
   "cell_type": "code",
   "execution_count": 9,
   "metadata": {
    "scrolled": true
   },
   "outputs": [],
   "source": [
    "data = data.merge(mapping_data, left_on='Results', right_on='Results')"
   ]
  },
  {
   "cell_type": "code",
   "execution_count": 11,
   "metadata": {},
   "outputs": [
    {
     "name": "stdout",
     "output_type": "stream",
     "text": [
      "<class 'pandas.core.frame.DataFrame'>\n",
      "Int64Index: 4058 entries, 0 to 4057\n",
      "Data columns (total 10 columns):\n",
      " #   Column           Non-Null Count  Dtype \n",
      "---  ------           --------------  ----- \n",
      " 0   Date             4058 non-null   object\n",
      " 1   global_id        4058 non-null   object\n",
      " 2   AdmArea          4058 non-null   object\n",
      " 3   District         4058 non-null   object\n",
      " 4   Longitude_WGS84  4058 non-null   object\n",
      " 5   Latitude_WGS84   4058 non-null   object\n",
      " 6   Location         4058 non-null   object\n",
      " 7   Results          4058 non-null   object\n",
      " 8   geoData          4058 non-null   object\n",
      " 9   Rank             4058 non-null   int64 \n",
      "dtypes: int64(1), object(9)\n",
      "memory usage: 348.7+ KB\n"
     ]
    }
   ],
   "source": [
    "data.info()"
   ]
  },
  {
   "cell_type": "code",
   "execution_count": 13,
   "metadata": {},
   "outputs": [],
   "source": [
    "data.to_csv('data/tranformed/data-49158-2020-10-16.csv')"
   ]
  },
  {
   "cell_type": "code",
   "execution_count": null,
   "metadata": {},
   "outputs": [],
   "source": []
  }
 ],
 "metadata": {
  "kernelspec": {
   "display_name": "Python 3",
   "language": "python",
   "name": "python3"
  },
  "language_info": {
   "codemirror_mode": {
    "name": "ipython",
    "version": 3
   },
   "file_extension": ".py",
   "mimetype": "text/x-python",
   "name": "python",
   "nbconvert_exporter": "python",
   "pygments_lexer": "ipython3",
   "version": "3.8.3"
  }
 },
 "nbformat": 4,
 "nbformat_minor": 4
}
