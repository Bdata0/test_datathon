{
 "cells": [
  {
   "cell_type": "code",
   "execution_count": 2,
   "metadata": {
    "collapsed": true
   },
   "outputs": [],
   "source": [
    "import pandas as pd\n",
    "import folium as fm"
   ]
  },
  {
   "cell_type": "code",
   "execution_count": 3,
   "metadata": {
    "collapsed": true
   },
   "outputs": [],
   "source": [
    "m = fm.Map(\n",
    "    location=[55.743139,37.801156],\n",
    "    tiles='OpenStreetMap',\n",
    "    zoom_start=13\n",
    ")\n"
   ]
  },
  {
   "cell_type": "markdown",
   "metadata": {},
   "source": [
    "### Импорт сведений об измерениях мобильных станциях наблюдения\n",
    "Источник данных: Портал открытых данных правительства Москвы https://data.mos.ru/opendata/\n",
    "Полный перечень полей: \"ID\";\"Date\";\"global_id\";\"AdmArea\";\"District\";\"Longitude\";\"Latitude\";\"Location\";\"Results\";\"geoData\";"
   ]
  },
  {
   "cell_type": "code",
   "execution_count": 4,
   "metadata": {},
   "outputs": [
    {
     "data": {
      "text/html": [
       "<div>\n",
       "<style>\n",
       "    .dataframe thead tr:only-child th {\n",
       "        text-align: right;\n",
       "    }\n",
       "\n",
       "    .dataframe thead th {\n",
       "        text-align: left;\n",
       "    }\n",
       "\n",
       "    .dataframe tbody tr th {\n",
       "        vertical-align: top;\n",
       "    }\n",
       "</style>\n",
       "<table border=\"1\" class=\"dataframe\">\n",
       "  <thead>\n",
       "    <tr style=\"text-align: right;\">\n",
       "      <th></th>\n",
       "      <th>global_id</th>\n",
       "      <th>AdmArea</th>\n",
       "      <th>District</th>\n",
       "      <th>Longitude</th>\n",
       "      <th>Latitude</th>\n",
       "      <th>Location</th>\n",
       "      <th>Results</th>\n",
       "      <th>geoData</th>\n",
       "    </tr>\n",
       "  </thead>\n",
       "  <tbody>\n",
       "    <tr>\n",
       "      <th>0</th>\n",
       "      <td>272626552</td>\n",
       "      <td>Восточный административный округ</td>\n",
       "      <td>район Восточный</td>\n",
       "      <td>37.797262</td>\n",
       "      <td>56.007634</td>\n",
       "      <td>посёлок Акулово, дом 7</td>\n",
       "      <td>Содержание загрязняющих веществ в атмосферном ...</td>\n",
       "      <td>{type=Point, coordinates=[37.797261999821, 56....</td>\n",
       "    </tr>\n",
       "    <tr>\n",
       "      <th>1</th>\n",
       "      <td>272626553</td>\n",
       "      <td>Юго-Восточный административный округ</td>\n",
       "      <td>район Некрасовка</td>\n",
       "      <td>37.915094</td>\n",
       "      <td>55.705884</td>\n",
       "      <td>Рождественская улица, дом 21, корпус 4</td>\n",
       "      <td>По отдельным веществам в атмосферном воздухе в...</td>\n",
       "      <td>{type=Point, coordinates=[37.915094000367, 55....</td>\n",
       "    </tr>\n",
       "    <tr>\n",
       "      <th>2</th>\n",
       "      <td>272626555</td>\n",
       "      <td>Восточный административный округ</td>\n",
       "      <td>район Новогиреево</td>\n",
       "      <td>37.801156</td>\n",
       "      <td>55.743139</td>\n",
       "      <td>Перовская улица, дом 66, корпус 1</td>\n",
       "      <td>Содержание загрязняющих веществ в атмосферном ...</td>\n",
       "      <td>{type=Point, coordinates=[37.801155999846, 55....</td>\n",
       "    </tr>\n",
       "  </tbody>\n",
       "</table>\n",
       "</div>"
      ],
      "text/plain": [
       "   global_id                               AdmArea           District  \\\n",
       "0  272626552      Восточный административный округ    район Восточный   \n",
       "1  272626553  Юго-Восточный административный округ   район Некрасовка   \n",
       "2  272626555      Восточный административный округ  район Новогиреево   \n",
       "\n",
       "   Longitude   Latitude                                Location  \\\n",
       "0  37.797262  56.007634                  посёлок Акулово, дом 7   \n",
       "1  37.915094  55.705884  Рождественская улица, дом 21, корпус 4   \n",
       "2  37.801156  55.743139       Перовская улица, дом 66, корпус 1   \n",
       "\n",
       "                                             Results  \\\n",
       "0  Содержание загрязняющих веществ в атмосферном ...   \n",
       "1  По отдельным веществам в атмосферном воздухе в...   \n",
       "2  Содержание загрязняющих веществ в атмосферном ...   \n",
       "\n",
       "                                             geoData  \n",
       "0  {type=Point, coordinates=[37.797261999821, 56....  \n",
       "1  {type=Point, coordinates=[37.915094000367, 55....  \n",
       "2  {type=Point, coordinates=[37.801155999846, 55....  "
      ]
     },
     "execution_count": 4,
     "metadata": {},
     "output_type": "execute_result"
    }
   ],
   "source": [
    "# Перед запуском заменить директорию на актуальную\n",
    "df = pd.read_csv('/home/antonio/study_python/15_team_hak_19_10/data_mobile_stations.csv', sep=';', \n",
    "                   usecols=[\"global_id\",\"AdmArea\",\"District\",\"Longitude\",\"Latitude\",\"Location\",\"Results\",\"geoData\"])\n",
    "df.head(3)"
   ]
  },
  {
   "cell_type": "markdown",
   "metadata": {},
   "source": [
    "### Убираем пустые строчки, и строки с заголовками (в источнике встречаются через каждые 1000 строчек)"
   ]
  },
  {
   "cell_type": "code",
   "execution_count": 90,
   "metadata": {
    "collapsed": true
   },
   "outputs": [],
   "source": [
    "df2 = df.dropna(axis=0, how='any')\n",
    "df3 = df2[df2.Latitude != \"Latitude_WGS84\"]"
   ]
  },
  {
   "cell_type": "code",
   "execution_count": 93,
   "metadata": {
    "collapsed": true
   },
   "outputs": [],
   "source": [
    "df = df3\n",
    "for i in range(0, df.shape[0]):\n",
    "    fm.Marker(\n",
    "        location=[df['Latitude'].values[i],df['Longitude'].values[i]],\n",
    "        #popup=df['Location'].values[i],\n",
    "        icon=fm.Icon(color='green')\n",
    "    ).add_to(m)"
   ]
  },
  {
   "cell_type": "code",
   "execution_count": 95,
   "metadata": {
    "collapsed": true
   },
   "outputs": [],
   "source": [
    "m.save('/home/antonio/study_python/15_team_hak_19_10/mobile_stations.html')"
   ]
  },
  {
   "cell_type": "code",
   "execution_count": null,
   "metadata": {
    "collapsed": true
   },
   "outputs": [],
   "source": []
  }
 ],
 "metadata": {
  "kernelspec": {
   "display_name": "Python 3",
   "language": "python",
   "name": "python3"
  },
  "language_info": {
   "codemirror_mode": {
    "name": "ipython",
    "version": 3
   },
   "file_extension": ".py",
   "mimetype": "text/x-python",
   "name": "python",
   "nbconvert_exporter": "python",
   "pygments_lexer": "ipython3",
   "version": "3.6.1"
  }
 },
 "nbformat": 4,
 "nbformat_minor": 2
}
