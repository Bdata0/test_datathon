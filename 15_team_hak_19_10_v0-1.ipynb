{
 "cells": [
  {
   "cell_type": "code",
   "execution_count": 107,
   "metadata": {
    "collapsed": true
   },
   "outputs": [],
   "source": [
    "import pandas as pd\n",
    "import numpy as np\n",
    "import matplotlib.pyplot as plt"
   ]
  },
  {
   "cell_type": "markdown",
   "metadata": {},
   "source": [
    "### Импорт сведений о стационарных станциях наблюдения\n",
    "Источник данных: Портал открытых данных правительства Москвы https://data.mos.ru/opendata/2447\n",
    "Полный перечень полей: [\"ID\",\"StationName\",\"global_id\",\"StationPurpose\",\"SurveillanceZoneCharacteristics\",\"AdmArea\",\"District\",\"Location\",\"Longitude\",\"Latitude\",\"StartUpYear\",\"IsWorking\",\"geoData\"]"
   ]
  },
  {
   "cell_type": "code",
   "execution_count": 144,
   "metadata": {},
   "outputs": [
    {
     "data": {
      "text/html": [
       "<div>\n",
       "<style>\n",
       "    .dataframe thead tr:only-child th {\n",
       "        text-align: right;\n",
       "    }\n",
       "\n",
       "    .dataframe thead th {\n",
       "        text-align: left;\n",
       "    }\n",
       "\n",
       "    .dataframe tbody tr th {\n",
       "        vertical-align: top;\n",
       "    }\n",
       "</style>\n",
       "<table border=\"1\" class=\"dataframe\">\n",
       "  <thead>\n",
       "    <tr style=\"text-align: right;\">\n",
       "      <th></th>\n",
       "      <th>StationName</th>\n",
       "      <th>global_id</th>\n",
       "      <th>StationPurpose</th>\n",
       "      <th>SurveillanceZoneCharacteristics</th>\n",
       "      <th>AdmArea</th>\n",
       "      <th>District</th>\n",
       "      <th>Location</th>\n",
       "      <th>Longitude</th>\n",
       "      <th>Latitude</th>\n",
       "      <th>StartUpYear</th>\n",
       "      <th>IsWorking</th>\n",
       "    </tr>\n",
       "  </thead>\n",
       "  <tbody>\n",
       "    <tr>\n",
       "      <th>0</th>\n",
       "      <td>Сухаревская площадь</td>\n",
       "      <td>171656891</td>\n",
       "      <td>контроль качества атмосферного воздуха</td>\n",
       "      <td>Вблизи автомагистралей</td>\n",
       "      <td>Центральный административный округ</td>\n",
       "      <td>Мещанский район</td>\n",
       "      <td>город Москва, Малая Сухаревская площадь, дом 1...</td>\n",
       "      <td>37.627445</td>\n",
       "      <td>55.773757</td>\n",
       "      <td>1996</td>\n",
       "      <td>да</td>\n",
       "    </tr>\n",
       "    <tr>\n",
       "      <th>1</th>\n",
       "      <td>Шаболовка</td>\n",
       "      <td>171656892</td>\n",
       "      <td>контроль качества атмосферного воздуха</td>\n",
       "      <td>Жилые территории</td>\n",
       "      <td>Южный административный округ</td>\n",
       "      <td>Донской район</td>\n",
       "      <td>Дальний переулок, дом 2, корпус 1</td>\n",
       "      <td>37.605238</td>\n",
       "      <td>55.715698</td>\n",
       "      <td>1996</td>\n",
       "      <td>да</td>\n",
       "    </tr>\n",
       "    <tr>\n",
       "      <th>2</th>\n",
       "      <td>Казакова</td>\n",
       "      <td>171656893</td>\n",
       "      <td>контроль качества атмосферного воздуха</td>\n",
       "      <td>Жилые территории</td>\n",
       "      <td>Центральный административный округ</td>\n",
       "      <td>Басманный район</td>\n",
       "      <td>город Москва, Гороховский переулок, дом 4, кор...</td>\n",
       "      <td>37.662100</td>\n",
       "      <td>55.763850</td>\n",
       "      <td>2000</td>\n",
       "      <td>да</td>\n",
       "    </tr>\n",
       "    <tr>\n",
       "      <th>3</th>\n",
       "      <td>Марьино</td>\n",
       "      <td>171656894</td>\n",
       "      <td>контроль качества атмосферного воздуха</td>\n",
       "      <td>Смешанные антропогенные источники загрязнений</td>\n",
       "      <td>Юго-Восточный административный округ</td>\n",
       "      <td>район Марьино</td>\n",
       "      <td>Новомарьинская улица, дом 7</td>\n",
       "      <td>37.751502</td>\n",
       "      <td>55.652695</td>\n",
       "      <td>1999</td>\n",
       "      <td>да</td>\n",
       "    </tr>\n",
       "    <tr>\n",
       "      <th>4</th>\n",
       "      <td>Зеленоград 6</td>\n",
       "      <td>171656895</td>\n",
       "      <td>контроль качества атмосферного воздуха</td>\n",
       "      <td>Жилые территории</td>\n",
       "      <td>Зеленоградский административный округ</td>\n",
       "      <td>район Савёлки</td>\n",
       "      <td>город Зеленоград, корпус 623</td>\n",
       "      <td>37.227940</td>\n",
       "      <td>55.989710</td>\n",
       "      <td>2004</td>\n",
       "      <td>да</td>\n",
       "    </tr>\n",
       "  </tbody>\n",
       "</table>\n",
       "</div>"
      ],
      "text/plain": [
       "           StationName  global_id                          StationPurpose  \\\n",
       "0  Сухаревская площадь  171656891  контроль качества атмосферного воздуха   \n",
       "1            Шаболовка  171656892  контроль качества атмосферного воздуха   \n",
       "2             Казакова  171656893  контроль качества атмосферного воздуха   \n",
       "3              Марьино  171656894  контроль качества атмосферного воздуха   \n",
       "4         Зеленоград 6  171656895  контроль качества атмосферного воздуха   \n",
       "\n",
       "                 SurveillanceZoneCharacteristics  \\\n",
       "0                         Вблизи автомагистралей   \n",
       "1                               Жилые территории   \n",
       "2                               Жилые территории   \n",
       "3  Смешанные антропогенные источники загрязнений   \n",
       "4                               Жилые территории   \n",
       "\n",
       "                                 AdmArea         District  \\\n",
       "0     Центральный административный округ  Мещанский район   \n",
       "1           Южный административный округ    Донской район   \n",
       "2     Центральный административный округ  Басманный район   \n",
       "3   Юго-Восточный административный округ    район Марьино   \n",
       "4  Зеленоградский административный округ    район Савёлки   \n",
       "\n",
       "                                            Location  Longitude   Latitude  \\\n",
       "0  город Москва, Малая Сухаревская площадь, дом 1...  37.627445  55.773757   \n",
       "1                  Дальний переулок, дом 2, корпус 1  37.605238  55.715698   \n",
       "2  город Москва, Гороховский переулок, дом 4, кор...  37.662100  55.763850   \n",
       "3                        Новомарьинская улица, дом 7  37.751502  55.652695   \n",
       "4                       город Зеленоград, корпус 623  37.227940  55.989710   \n",
       "\n",
       "   StartUpYear IsWorking  \n",
       "0         1996        да  \n",
       "1         1996        да  \n",
       "2         2000        да  \n",
       "3         1999        да  \n",
       "4         2004        да  "
      ]
     },
     "execution_count": 144,
     "metadata": {},
     "output_type": "execute_result"
    }
   ],
   "source": [
    "# Перед запуском заменить директорию на актуальную\n",
    "df = pd.read_csv('/home/antonio/study_python/15_team_hak_19_10/data_stations.csv', sep=';', \n",
    "                   usecols=[\"StationName\",\"global_id\",\"StationPurpose\",\"SurveillanceZoneCharacteristics\",\"AdmArea\",\"District\",\"Location\",\"Longitude\",\"Latitude\",\"StartUpYear\",\"IsWorking\"])\n",
    "df.head(5)"
   ]
  },
  {
   "cell_type": "markdown",
   "metadata": {},
   "source": [
    "### Визуализация статистики ввода в эксплуатацию станций по годам"
   ]
  },
  {
   "cell_type": "code",
   "execution_count": 109,
   "metadata": {},
   "outputs": [],
   "source": [
    "ax = df.plot.bar(y='StartUpYear', figsize=(12, 4))"
   ]
  },
  {
   "cell_type": "code",
   "execution_count": 110,
   "metadata": {},
   "outputs": [
    {
     "data": {
      "image/png": "[encoded data removed]",
      "text/plain": [
       "<matplotlib.figure.Figure at 0x7fb5ee966710>"
      ]
     },
     "metadata": {},
     "output_type": "display_data"
    }
   ],
   "source": [
    "plt.title('Год ввода в эксплуатацию станции наблюдения')\n",
    "plt.xlabel('Station index')\n",
    "plt.ylabel('Years')\n",
    "plt.grid(axis='y')\n",
    "plt.ylim(bottom=1970, top=2030)\n",
    "plt.show()"
   ]
  },
  {
   "cell_type": "markdown",
   "metadata": {},
   "source": [
    "### Группировка по годам ввода в эксплуатацию\n",
    "Закомментированные ячейки - проверочны вывод"
   ]
  },
  {
   "cell_type": "code",
   "execution_count": 111,
   "metadata": {
    "collapsed": true
   },
   "outputs": [],
   "source": [
    "grouped_year = df.groupby('StartUpYear')"
   ]
  },
  {
   "cell_type": "code",
   "execution_count": 112,
   "metadata": {},
   "outputs": [],
   "source": [
    "#grouped.get_group(1996)\n",
    "#print(df.groupby('StartUpYear').groups)"
   ]
  },
  {
   "cell_type": "code",
   "execution_count": 113,
   "metadata": {},
   "outputs": [],
   "source": [
    "count_by_year = grouped_year.agg(np.size)\n",
    "count_by_year = count_by_year.drop([\"StationName\",\"StationPurpose\",\"SurveillanceZoneCharacteristics\",\"AdmArea\",\"District\",\"Location\",\"Longitude\",\"Latitude\",\"IsWorking\"], axis=1)"
   ]
  },
  {
   "cell_type": "code",
   "execution_count": 124,
   "metadata": {},
   "outputs": [],
   "source": [
    "#count_by_year.head()"
   ]
  },
  {
   "cell_type": "markdown",
   "metadata": {},
   "source": [
    "#### Насыщение данными по годам, когда ввод в эксплуатацию не происходил"
   ]
  },
  {
   "cell_type": "code",
   "execution_count": 115,
   "metadata": {},
   "outputs": [],
   "source": [
    "df2 = pd.DataFrame(data=[[0],[0],[0],[0],[0],[0],[0],[0]], index=[1997,1998,2009,2011,2012,2016,2017,2018], columns=['global_id'], dtype = int)"
   ]
  },
  {
   "cell_type": "code",
   "execution_count": 116,
   "metadata": {},
   "outputs": [],
   "source": [
    "df_extended = count_by_year.append(df2)\n",
    "#df_extended"
   ]
  },
  {
   "cell_type": "code",
   "execution_count": 117,
   "metadata": {},
   "outputs": [],
   "source": [
    "df_res = df_extended.sort_index()"
   ]
  },
  {
   "cell_type": "markdown",
   "metadata": {},
   "source": [
    "#### Визуалицация"
   ]
  },
  {
   "cell_type": "code",
   "execution_count": 141,
   "metadata": {},
   "outputs": [],
   "source": [
    "ax = df_res.plot.line(y='global_id', figsize=(10, 4))"
   ]
  },
  {
   "cell_type": "code",
   "execution_count": 142,
   "metadata": {},
   "outputs": [
    {
     "data": {
      "image/png": "[encoded data removed]",
      "text/plain": [
       "<matplotlib.figure.Figure at 0x7fb5eca2f2b0>"
      ]
     },
     "metadata": {},
     "output_type": "display_data"
    }
   ],
   "source": [
    "plt.title('Кол-во вводимых станций в год')\n",
    "plt.xlabel('Station index')\n",
    "plt.ylabel('Years')\n",
    "plt.grid(axis='y')\n",
    "#plt.ylim(bottom=1950, top=2030)\n",
    "plt.show()"
   ]
  },
  {
   "cell_type": "markdown",
   "metadata": {},
   "source": [
    "### Группировка по округам\n",
    "Закомментированные ячейки - проверочны вывод\n"
   ]
  },
  {
   "cell_type": "code",
   "execution_count": 120,
   "metadata": {
    "collapsed": true
   },
   "outputs": [],
   "source": [
    "grouped_area = df.groupby('AdmArea')"
   ]
  },
  {
   "cell_type": "code",
   "execution_count": 121,
   "metadata": {
    "collapsed": true
   },
   "outputs": [],
   "source": [
    "count_by_area = grouped_area.agg(np.size)\n",
    "count_by_area = count_by_area.drop([\"StationName\",\"StationPurpose\",\"SurveillanceZoneCharacteristics\",\"District\",\"Location\",\"Longitude\",\"Latitude\",\"StartUpYear\",\"IsWorking\"], axis=1)"
   ]
  },
  {
   "cell_type": "code",
   "execution_count": 122,
   "metadata": {},
   "outputs": [],
   "source": [
    "count_by_area = count_by_area.rename(index = lambda x: x.replace('административный округ','АО')) \n",
    "#count_by_area.index\n"
   ]
  },
  {
   "cell_type": "code",
   "execution_count": 123,
   "metadata": {},
   "outputs": [
    {
     "data": {
      "image/png": "[encoded data removed]",
      "text/plain": [
       "<matplotlib.figure.Figure at 0x7fb5ee5a9da0>"
      ]
     },
     "metadata": {},
     "output_type": "display_data"
    }
   ],
   "source": [
    "ax = count_by_area.plot.bar(y='global_id', figsize=(10, 6))\n",
    "plt.title('Кол-во станций по округам')\n",
    "plt.xlabel('AdmArea')\n",
    "plt.ylabel('Counts')\n",
    "plt.grid(axis='y')\n",
    "plt.legend(loc='upper left')\n",
    "#plt.ylim(bottom=1950, top=2030)\n",
    "plt.show()"
   ]
  },
  {
   "cell_type": "code",
   "execution_count": null,
   "metadata": {
    "collapsed": true
   },
   "outputs": [],
   "source": []
  }
 ],
 "metadata": {
  "kernelspec": {
   "display_name": "Python 3",
   "language": "python",
   "name": "python3"
  },
  "language_info": {
   "codemirror_mode": {
    "name": "ipython",
    "version": 3
   },
   "file_extension": ".py",
   "mimetype": "text/x-python",
   "name": "python",
   "nbconvert_exporter": "python",
   "pygments_lexer": "ipython3",
   "version": "3.6.1"
  }
 },
 "nbformat": 4,
 "nbformat_minor": 2
}
